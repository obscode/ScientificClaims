{
 "cells": [
  {
   "cell_type": "code",
   "execution_count": null,
   "metadata": {
    "id": "5CBOH1w_pMBB"
   },
   "outputs": [],
   "source": [
    "%matplotlib inline\n",
    "# Import standard python libraries\n",
    "import numpy as np # numerical manipulation\n",
    "import matplotlib.pyplot as plt # plotting\n",
    "\n",
    "# Set default font to serif'd\n",
    "plt.rcParams[\"font.family\"] = \"serif\"\n",
    "\n",
    "# Import astropy library for reading tables\n",
    "from astropy.io import ascii\n",
    "\n",
    "# Import Cepheid light curve model\n",
    "from cepheid_template import cepheid_lightcurve"
   ]
  },
  {
   "cell_type": "markdown",
   "metadata": {
    "id": "8BVxbDnDpMBL"
   },
   "source": [
    "# 1. The Leavitt Law\n",
    "\n",
    "_Cepheids_ are stars whose brightness varies with time. The brightness variations are _periodic_, meaning that after some time (the \"period\") the same pattern of brightness variations repeats.\n",
    "\n",
    "In the 1900s, the American astronomer Henrietta Leavitt discovered that Cepheid variable stars have a relationship between their period and mean luminosity. This period-luminosity relationship allowed the determination of distances to Cepheids.\n",
    "See https://www.atnf.csiro.au/outreach/education/senior/astrophysics/variable_cepheids.html for more background.\n",
    "\n",
    "Detailed observations have been used to calibrate the relationship between period and luminosity (quantified by the absolute magnitude).\n",
    "The exact calibration depends on what color of light you observe the Cepheid in, but here we will look in the near-infrared (the \"$I$\" band).\n",
    "The relationship between period $P$ in days and mean absolute magnitude $M_{I,0}$ is given by\n",
    "$$M_{I,0} = -3.06 \\log P - 1.81$$\n",
    "(Madore and Freedman 1991).\n",
    "\n",
    "Since apparent magnitude corresponds to flux, and absolute magnitude corresponds to luminosity, measuring the period and mean apparent magnitude of a Cepheid allows you to determine the distance to that Cepheid:\n",
    "$$ 5 \\log \\frac{d}{\\text{10 pc}} = m_{I,0} - M_{I,0}$$"
   ]
  },
  {
   "cell_type": "markdown",
   "metadata": {
    "id": "1I1lIwM1pMBM"
   },
   "source": [
    "Using these relations, create a function that takes the apparent mean magnitude and period to determine the distance."
   ]
  },
  {
   "cell_type": "code",
   "execution_count": null,
   "metadata": {
    "id": "x2p21stVpMBM"
   },
   "outputs": [],
   "source": [
    "def get_distance(apparent_magnitude, period):\n",
    "    \"\"\"\n",
    "    <Insert comments here describing what the function does, including units>\n",
    "    \"\"\"\n",
    "    return np.nan"
   ]
  },
  {
   "cell_type": "markdown",
   "metadata": {
    "id": "rpWsasxWpMBQ"
   },
   "source": [
    "If you have a cepheid with mean apparent magnitude $m_I = 17.5$ and period 12.2 days, how far away is it?"
   ]
  },
  {
   "cell_type": "code",
   "execution_count": null,
   "metadata": {
    "colab": {
     "base_uri": "https://localhost:8080/",
     "height": 34
    },
    "id": "HH9D_mf8pMBS",
    "outputId": "96702ba5-d885-470e-d8d0-60807ec9c27e"
   },
   "outputs": [],
   "source": [
    "# Use your function defined above.\n"
   ]
  },
  {
   "cell_type": "markdown",
   "metadata": {
    "id": "md4cuzkupMBV"
   },
   "source": [
    "# 2. Exploring the data\n",
    "\n",
    "Read in a dataset and plot the data (flux vs time). *Make sure to label your axes.*\n",
    "\n",
    "The time is in days, while the flux is in apparent magnitudes ($m_I$)."
   ]
  },
  {
   "cell_type": "code",
   "execution_count": null,
   "metadata": {
    "id": "GY21j4fnpMBW",
    "scrolled": false
   },
   "outputs": [],
   "source": [
    "# Pick a star number from 02 to 19\n",
    "star_number = 10\n",
    "\n",
    "# This code loads the data for the star\n",
    "datapath = \"variabledata/star{:02}.dat\".format(star_number)\n",
    "data = ascii.read(datapath)\n",
    "print(data.colnames)\n",
    "\n",
    "# Here is an example how to get columns from the data\n",
    "t_data = data[\"t\"]\n",
    "mI_data = data[\"Imag\"]\n",
    "print(t_data) # note the times are not sorted right now"
   ]
  },
  {
   "cell_type": "code",
   "execution_count": null,
   "metadata": {
    "id": "LpwZYQizpMBa"
   },
   "outputs": [],
   "source": [
    "# Make a plot of apparent magnitude vs time here\n",
    "# Make sure to label your axes!\n",
    "# Can you estimate the approximate period by eye?\n",
    "?plt.plot"
   ]
  },
  {
   "cell_type": "markdown",
   "metadata": {
    "id": "KRjMrcs8pMBe"
   },
   "source": [
    "# 3. Exploring the model\n",
    "\n",
    "Examine the documentation for the `cepheid_lightcurve` function with \n",
    "`?cepheid_lightcurve`.\n",
    "\n",
    "What are the inputs you need? How many parameters are there in the model?\n",
    "\n",
    "Which parameter corresponds to luminosity? Which parameter corresponds to flux?\n",
    "\n",
    "Make some plots that demonstrate how changing the parameters affects the model lightcurve (at least one per parameter).\n"
   ]
  },
  {
   "cell_type": "code",
   "execution_count": null,
   "metadata": {
    "id": "9UPqJiVepMBf"
   },
   "outputs": [],
   "source": [
    "# In a notebook, the ? symbol pulls out the python \"docstring\"\n",
    "?cepheid_lightcurve\n",
    "# There are three parameters in the model.\n",
    "# Which one corresponds to luminosity?\n",
    "# Which one corresponds to flux?"
   ]
  },
  {
   "cell_type": "markdown",
   "metadata": {
    "id": "aaACLzzkpMBk"
   },
   "source": [
    "Here is an example of how to plot one set of model parameters"
   ]
  },
  {
   "cell_type": "code",
   "execution_count": null,
   "metadata": {
    "id": "luPjGLC7pMBl"
   },
   "outputs": [],
   "source": [
    "## Example\n",
    "# Define the model parameters\n",
    "m0 = 16.0 # magnitudes\n",
    "period = 25.0 # days\n",
    "phaseshift = 1.0 # days\n",
    "# Make a linearly spaced set of times\n",
    "t_min, t_max, N = 0, 100, 1001\n",
    "t_model = np.linspace(t_min, t_max, N)\n",
    "# Create the apparent magnitudes using the model\n",
    "mI_model = cepheid_lightcurve(t_model, m0, period, phaseshift)\n",
    "# Create a label for the model to show what parameters were put in\n",
    "model_label = \"m0={:.1f} period={:.1f} phaseshift={:.1f}\".format(m0, period, phaseshift)\n",
    "\n",
    "## This creates a figure with examples of how to change several plot parameters\n",
    "## You can also go to the matplotlib gallery for more things: https://matplotlib.org/gallery/index.html\n",
    "# Create a figure, size in inches\n",
    "fig,ax = plt.subplots(figsize=(8,6))\n",
    "# Plot the data\n",
    "ax.plot(t_model, mI_model, '-', label=model_label)\n",
    "# Make a title and axes\n",
    "ax.set_title(\"One model Cepheid Light Curve\", fontsize=20)\n",
    "ax.set_xlabel(\"time (days)\", fontsize=16)\n",
    "ax.set_ylabel(\"apparent I magnitudes\", fontsize=16)\n",
    "# Make a legend\n",
    "ax.legend(loc='upper right', fontsize=16)\n",
    "# Set axis limits\n",
    "ax.set_xlim(0,100)\n",
    "ax.set_ylim(16.5,15.5) # Note that we have flipped the direction so brighter magnitudes (lower values) are \"up\"\n",
    "# Specify where to put tick marks\n",
    "ax.xaxis.set_major_locator(plt.MultipleLocator(10))\n",
    "ax.yaxis.set_major_locator(plt.MultipleLocator(0.1))\n",
    "plt.xticks(fontsize=16)\n",
    "plt.yticks(fontsize=16)\n",
    "ax.grid() # Add grid lines\n",
    "# Annotate with text\n",
    "ax.text(5, 16.45, \"My first Cepheid model!\", fontsize=12,\n",
    "        ha=\"left\", va=\"center\")\n",
    "# Fit plot to figure size\n",
    "plt.tight_layout()"
   ]
  },
  {
   "cell_type": "code",
   "execution_count": null,
   "metadata": {
    "id": "odcyYol6pMBq"
   },
   "outputs": [],
   "source": [
    "# Now make a plot showing how m0 affects the light curve\n"
   ]
  },
  {
   "cell_type": "code",
   "execution_count": null,
   "metadata": {
    "id": "_ucEKuV-pMBv"
   },
   "outputs": [],
   "source": [
    "# Now make a plot showing how period affects the light curve\n"
   ]
  },
  {
   "cell_type": "code",
   "execution_count": null,
   "metadata": {
    "id": "XFUosoRmpMBy"
   },
   "outputs": [],
   "source": [
    "# Now make a plot showing how phaseshift affects the light curve\n"
   ]
  },
  {
   "cell_type": "markdown",
   "metadata": {
    "id": "fNlqXUPapMB3"
   },
   "source": [
    "# 4. Fitting by hand\n",
    "\n",
    "* Overplot the `cepheid_lightcurve` model on your data.\n",
    "* Estimate the best-fit parameters by varying the parameters manually until you obtain a curve that fits your data.\n",
    "* Determine the distance to this Cepheid with your best-fit parameters.\n",
    "* Create a figure to explain the model you fit, the parameters you chose, and the distance you determined.\n",
    "\n",
    "\n",
    "* Make a plot to present with your best-fit model, and annotate it with the chosen parameters and calculated distance. \n",
    "* You will be presenting this plot to others."
   ]
  },
  {
   "cell_type": "code",
   "execution_count": null,
   "metadata": {
    "id": "8ACsnijzpMB4"
   },
   "outputs": [],
   "source": []
  },
  {
   "cell_type": "markdown",
   "metadata": {
    "id": "r5rJZeZdpMB8"
   },
   "source": [
    "# Optional: Automatically fitting a model to data\n",
    "\n",
    "Use `scipy.optimize.curve_fit` to determine the best-fit parameters automatically.\n",
    "Create a figure to present the model you fit, the parameters you chose, and the distance you determined."
   ]
  },
  {
   "cell_type": "code",
   "execution_count": null,
   "metadata": {
    "id": "bkaa6w--pMB9"
   },
   "outputs": [],
   "source": [
    "# Import scipy optimization library\n",
    "from scipy import optimize\n",
    "\n",
    "# Make sure you understand what scipy.optimize.curve_fit requires to run\n",
    "# Make sure to understand the `absolute_sigma` parameter!\n",
    "?optimize.curve_fit"
   ]
  },
  {
   "cell_type": "code",
   "execution_count": null,
   "metadata": {
    "id": "Pg2jo46wpMCB"
   },
   "outputs": [],
   "source": [
    "# Fit the model parameters to the data"
   ]
  },
  {
   "cell_type": "code",
   "execution_count": null,
   "metadata": {
    "id": "u-5Al1GOpMCE"
   },
   "outputs": [],
   "source": [
    "# Make a plot demonstrating the fit"
   ]
  },
  {
   "cell_type": "markdown",
   "metadata": {
    "id": "Vl4QnWcspMCJ"
   },
   "source": [
    "# Optional: Cepheids as standard candles\n",
    "\n",
    "These Cepheids are at known distances of about 50 kpc, 60 kpc, 785kpc, 6850kpc, and 26400 kpc away.\n",
    "\n",
    "Make a plot demonstrating why these Cepheids are good standard candles."
   ]
  },
  {
   "cell_type": "code",
   "execution_count": null,
   "metadata": {
    "id": "M-tQju0apMCJ"
   },
   "outputs": [],
   "source": [
    "# This cell loads data for 5 Cepheids of known distance\n",
    "known_distance_objects = [\"OGLE-LMC-CEP-1166.dat\", \"OGLE-SMC-CEP-1172.dat\", \"M31_mock.dat\", \"M101_mock.dat\", \"NGC3021_sampled.dat\"]\n",
    "cephdata = [ascii.read(\"variabledata/{}\".format(name)) for name in known_distance_objects] # this is a \"list comprehension\", a.k.a. a fancy \"for loop\" that creates a list\n",
    "dists = np.array([50, 60, 785, 6850, 26400]) * 1000. #in pc\n",
    "# Note: these are lists/arrays: you can access the individual items with e.g. cephdata[0] through cephdata[4]."
   ]
  },
  {
   "cell_type": "code",
   "execution_count": null,
   "metadata": {
    "id": "lxqw7WqXpMCO"
   },
   "outputs": [],
   "source": [
    "# Brainstorm: what do you need to show about these Cepheids to say they are standard candles?\n",
    "# Brainstorm: what is the best type of plot to show the expectations for a standard candle vs the data?"
   ]
  },
  {
   "cell_type": "markdown",
   "metadata": {
    "id": "C07jAy3jpMCS"
   },
   "source": [
    "# For Reference: Magnitudes, Flux, and Luminosity\n",
    "\n",
    "Note: in astronomy and astrophyscis, logarithms are usually assumed to be base 10 (instead of base $e$).\n",
    "A quick refresher on logarithm rules:\n",
    "$$\\log(ab) = \\log(a) + \\log(b)$$\n",
    "$$\\log(a^n) = n \\log(a)$$"
   ]
  },
  {
   "cell_type": "markdown",
   "metadata": {
    "id": "McMpeekApMCT"
   },
   "source": [
    "A _magnitude_ is a relative measure of the flux from an object.\n",
    "A magnitude difference between two objects directly corresponds to a\n",
    "flux ratio. The definition is:\n",
    "$$m_1 - m_2 = -2.5 \\log\\frac{F_1}{F_2} $$\n",
    "\n",
    "Often we implicitly assume that object 2 is a \"reference\" object,\n",
    "such as Vega, which is defined to have magnitude zero. So we will then\n",
    "write:\n",
    "$$m = -2.5 \\log\\frac{F}{F_0}$$\n",
    "where $F_0$ is the flux from Vega. (In practice, ever since we\n",
    "suspected that Vega is a variable star, we have just picked a number\n",
    "for $F_0$ that is defined as magnitude zero.)\n",
    "You can almost always avoid having to plug in a number for $F_0$ as \n",
    "usually we are interested in flux ratios between objects (e.g., how\n",
    "many times brighter is object 1 compared to object 2?).\n",
    "\n",
    "Confusingly, a more negative magnitude implies a brighter object. This is because the magnitude system dates back to ancient astronomers, where the brightest stars were denoted 1 magnitude, the next brightest stars were denoted 2 magnitudes, etc."
   ]
  },
  {
   "cell_type": "markdown",
   "metadata": {
    "id": "BpEOoFlBpMCV"
   },
   "source": [
    "This definition for magnitudes implicitly defines _absolute magnitudes_\n",
    "and the _distance modulus_.\n",
    "Since $F = L/4\\pi d^2$, this means that:\n",
    "$$m_1 - m_2 = -2.5 \\log\\frac{L_1 d_2^2}{L_2 d_1^2}$$\n",
    "where the $4\\pi$ cancels out.\n",
    "\n",
    "Let's now suppose object 2 is an object\n",
    "of the same intrinsic luminosity as object 1, but at a distance of 10\n",
    "pc. Then we know $L_1=L_2$ and $d_2=10\\rm{pc}$:\n",
    "$$m_1 - m_2 = -2.5 \\log\\left(\\frac{d_1}{d_2}\\right)^{-2}$$\n",
    "and then expanding the log rules and realizing $m_2=M$ as the\n",
    "definition of the absolute magnitude, we obtain\n",
    "$$m - M = 5 \\log\\left(\\frac{d}{10\\text{ pc}}\\right)$$\n",
    "where the right hand side is defined as the distance modulus DM. So\n",
    "between the apparent magnitude $m$, the absolute magnitude $M$, and\n",
    "the distance $d$, knowing any two of them gives you the third."
   ]
  },
  {
   "cell_type": "markdown",
   "metadata": {
    "id": "e0U5PGmwpMCW"
   },
   "source": [
    "By convention, apparent magnitudes are denoted with a lowercase $m$, while absolute magnitudes are denoted with an uppercase $M$.\n",
    "(Yes, this can be very confusing.)"
   ]
  }
 ],
 "metadata": {
  "colab": {
   "collapsed_sections": [],
   "name": "FitCepheid.ipynb",
   "provenance": []
  },
  "kernelspec": {
   "display_name": "Python 3 (ipykernel)",
   "language": "python",
   "name": "python3"
  },
  "language_info": {
   "codemirror_mode": {
    "name": "ipython",
    "version": 3
   },
   "file_extension": ".py",
   "mimetype": "text/x-python",
   "name": "python",
   "nbconvert_exporter": "python",
   "pygments_lexer": "ipython3",
   "version": "3.9.12"
  }
 },
 "nbformat": 4,
 "nbformat_minor": 1
}
